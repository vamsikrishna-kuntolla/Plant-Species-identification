{
 "cells": [
  {
   "cell_type": "code",
   "execution_count": 1,
   "id": "f752c18c",
   "metadata": {},
   "outputs": [
    {
     "name": "stdout",
     "output_type": "stream",
     "text": [
      "1906\n"
     ]
    }
   ],
   "source": [
    "from utils import load_data"
   ]
  },
  {
   "cell_type": "code",
   "execution_count": 2,
   "id": "a8e6c929",
   "metadata": {},
   "outputs": [],
   "source": [
    "import tensorflow as tf\n",
    "import numpy as np\n",
    "import matplotlib.pyplot as plt"
   ]
  },
  {
   "cell_type": "code",
   "execution_count": 3,
   "id": "6e6184dd",
   "metadata": {},
   "outputs": [],
   "source": [
    "from sklearn.model_selection import train_test_split"
   ]
  },
  {
   "cell_type": "code",
   "execution_count": 4,
   "id": "66f075a4",
   "metadata": {},
   "outputs": [],
   "source": [
    "(feature, labels) = load_data()"
   ]
  },
  {
   "cell_type": "code",
   "execution_count": 5,
   "id": "63da3d03",
   "metadata": {},
   "outputs": [],
   "source": [
    "x_train, x_test, y_train, y_test = train_test_split(feature, labels, test_size = 0.1)"
   ]
  },
  {
   "cell_type": "code",
   "execution_count": 6,
   "id": "a62bea4e",
   "metadata": {},
   "outputs": [],
   "source": [
    "categories = ['pubescent bamboo','Chinese horse chestnut','Anhui Barberry', \\\n",
    "                'Chinese redbud','true indigo','Japanese maple','Nanmu','castor aralia', \\\n",
    "                'Chinese cinnamon','goldenrain tree','Big-fruited Holly','Japanese cheesewood', \\\n",
    "                'wintersweet','camphortree','Japan Arrowwood','sweet osmanthus','deodar','ginkgo, maidenhair tree', \\\n",
    "                'Crape myrtle, Crepe myrtle','oleander','yew plum pine','Japanese Flowering Cherry','Glossy Privet',\\\n",
    "                'Chinese Toon','peach','Ford Woodlotus','trident maple','Beales barberry','southern magnolia',\\\n",
    "                'Canadian poplar','Chinese tulip tree','tangerine'\n",
    "               ]"
   ]
  },
  {
   "cell_type": "code",
   "execution_count": 7,
   "id": "240516f6",
   "metadata": {},
   "outputs": [],
   "source": [
    "input_layer = tf.keras.layers.Input([75,100,3])"
   ]
  },
  {
   "cell_type": "code",
   "execution_count": 8,
   "id": "66d66213",
   "metadata": {},
   "outputs": [],
   "source": [
    "conv1=tf.keras.layers.Conv2D(filters = 32, kernel_size=(5,5),padding=\"same\", activation = \"relu\")(input_layer)"
   ]
  },
  {
   "cell_type": "code",
   "execution_count": 9,
   "id": "42f05179",
   "metadata": {},
   "outputs": [],
   "source": [
    "pool1 = tf.keras.layers.MaxPooling2D(pool_size=(2,2))((conv1))"
   ]
  },
  {
   "cell_type": "code",
   "execution_count": 10,
   "id": "2bbec89b",
   "metadata": {},
   "outputs": [],
   "source": [
    "conv2 = tf.keras.layers.Conv2D(filters = 64, kernel_size=(3,3), padding=\"same\",activation=\"relu\")(pool1)"
   ]
  },
  {
   "cell_type": "code",
   "execution_count": 11,
   "id": "359a222e",
   "metadata": {},
   "outputs": [],
   "source": [
    "pool2 = tf.keras.layers.MaxPooling2D(pool_size=(2,2),strides=(2,2))(conv2)"
   ]
  },
  {
   "cell_type": "code",
   "execution_count": 12,
   "id": "09e62c5d",
   "metadata": {},
   "outputs": [],
   "source": [
    "conv3 = tf.keras.layers.Conv2D(filters = 96, kernel_size=(3,3), padding=\"same\", activation=\"relu\")(pool2)"
   ]
  },
  {
   "cell_type": "code",
   "execution_count": 13,
   "id": "c6848170",
   "metadata": {},
   "outputs": [],
   "source": [
    "pool3 = tf.keras.layers.MaxPooling2D(pool_size=(2,2), strides=(2,2))(conv3)"
   ]
  },
  {
   "cell_type": "code",
   "execution_count": 14,
   "id": "236c5706",
   "metadata": {},
   "outputs": [],
   "source": [
    "conv4 = tf.keras.layers.Conv2D(filters = 96, kernel_size=(3,3),padding=\"same\", activation=\"relu\")(pool3)"
   ]
  },
  {
   "cell_type": "code",
   "execution_count": 15,
   "id": "c751b3f5",
   "metadata": {},
   "outputs": [],
   "source": [
    "pool4 = tf.keras.layers.MaxPooling2D(pool_size=(2,2), strides=(2,2,))(conv4)"
   ]
  },
  {
   "cell_type": "code",
   "execution_count": 16,
   "id": "68eb3ae9",
   "metadata": {},
   "outputs": [],
   "source": [
    "flt1 = tf.keras.layers.Flatten()(pool4)"
   ]
  },
  {
   "cell_type": "code",
   "execution_count": 17,
   "id": "466a68a7",
   "metadata": {},
   "outputs": [],
   "source": [
    "dn1 = tf.keras.layers.Dense(512, activation=\"relu\")(flt1)"
   ]
  },
  {
   "cell_type": "code",
   "execution_count": 18,
   "id": "6d702c9e",
   "metadata": {},
   "outputs": [],
   "source": [
    "out = tf.keras.layers.Dense(32, activation=\"softmax\")(dn1)"
   ]
  },
  {
   "cell_type": "code",
   "execution_count": 19,
   "id": "2a2da4c5",
   "metadata": {},
   "outputs": [],
   "source": [
    "model = tf.keras.Model(input_layer, out)"
   ]
  },
  {
   "cell_type": "code",
   "execution_count": 20,
   "id": "e414719f",
   "metadata": {},
   "outputs": [],
   "source": [
    "model.compile(optimizer=\"adam\", loss=\"sparse_categorical_crossentropy\", metrics=[\"accuracy\"])"
   ]
  },
  {
   "cell_type": "code",
   "execution_count": null,
   "id": "6dfb806c",
   "metadata": {},
   "outputs": [
    {
     "name": "stdout",
     "output_type": "stream",
     "text": [
      "Epoch 1/10\n",
      "54/54 [==============================] - 11s 209ms/step - loss: 2.6827 - accuracy: 0.2688\n",
      "Epoch 2/10\n",
      "54/54 [==============================] - 13s 236ms/step - loss: 1.1608 - accuracy: 0.6344\n",
      "Epoch 3/10\n",
      "54/54 [==============================] - 13s 246ms/step - loss: 0.6845 - accuracy: 0.7889\n",
      "Epoch 4/10\n",
      "54/54 [==============================] - 13s 247ms/step - loss: 0.4926 - accuracy: 0.8356\n",
      "Epoch 5/10\n",
      "54/54 [==============================] - 14s 254ms/step - loss: 0.3077 - accuracy: 0.8950\n",
      "Epoch 6/10\n",
      "54/54 [==============================] - 14s 251ms/step - loss: 0.2407 - accuracy: 0.9207\n",
      "Epoch 7/10\n",
      "54/54 [==============================] - 14s 253ms/step - loss: 0.2371 - accuracy: 0.9190\n",
      "Epoch 8/10\n",
      "54/54 [==============================] - 14s 253ms/step - loss: 0.1532 - accuracy: 0.9429\n",
      "Epoch 9/10\n",
      "48/54 [=========================>....] - ETA: 1s - loss: 0.1107 - accuracy: 0.9609"
     ]
    }
   ],
   "source": [
    "model.fit(x_train, y_train, batch_size = 32, epochs=10)"
   ]
  },
  {
   "cell_type": "code",
   "execution_count": 23,
   "id": "dda7b4bc",
   "metadata": {},
   "outputs": [],
   "source": [
    "model.save(\"mymodel.h5\")"
   ]
  },
  {
   "cell_type": "code",
   "execution_count": null,
   "id": "57f48674",
   "metadata": {},
   "outputs": [],
   "source": []
  }
 ],
 "metadata": {
  "kernelspec": {
   "display_name": "Python 3 (ipykernel)",
   "language": "python",
   "name": "python3"
  },
  "language_info": {
   "codemirror_mode": {
    "name": "ipython",
    "version": 3
   },
   "file_extension": ".py",
   "mimetype": "text/x-python",
   "name": "python",
   "nbconvert_exporter": "python",
   "pygments_lexer": "ipython3",
   "version": "3.8.12"
  }
 },
 "nbformat": 4,
 "nbformat_minor": 5
}
